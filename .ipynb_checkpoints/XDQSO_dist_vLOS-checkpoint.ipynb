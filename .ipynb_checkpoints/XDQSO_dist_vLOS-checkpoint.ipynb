{
 "cells": [
  {
   "cell_type": "code",
   "execution_count": 88,
   "metadata": {
    "collapsed": true
   },
   "outputs": [],
   "source": [
    "%matplotlib inline\n",
    "\n",
    "import numpy as np\n",
    "from matplotlib import pyplot as plt\n",
    "from astropy import units as u\n",
    "from astropy.coordinates import ICRS, Galactic"
   ]
  },
  {
   "cell_type": "markdown",
   "metadata": {},
   "source": [
    "Get positions and colors from the BOSS data"
   ]
  },
  {
   "cell_type": "code",
   "execution_count": 89,
   "metadata": {
    "collapsed": true
   },
   "outputs": [],
   "source": [
    "lat,long,vLOS = [],[],[]"
   ]
  },
  {
   "cell_type": "code",
   "execution_count": 90,
   "metadata": {
    "collapsed": true
   },
   "outputs": [],
   "source": [
    "rmag,imag = [],[]"
   ]
  },
  {
   "cell_type": "code",
   "execution_count": 91,
   "metadata": {
    "collapsed": true
   },
   "outputs": [],
   "source": [
    "ext_r,ext_i = [],[]"
   ]
  },
  {
   "cell_type": "code",
   "execution_count": 92,
   "metadata": {
    "collapsed": true
   },
   "outputs": [],
   "source": [
    "chunk = []"
   ]
  },
  {
   "cell_type": "code",
   "execution_count": 93,
   "metadata": {
    "collapsed": false
   },
   "outputs": [],
   "source": [
    "with open(\"XDQSO_full_data.txt\",'r') as infile:\n",
    "    for line in infile:\n",
    "        params = line.split()\n",
    "        lat.append(float(params[1])) # rad\n",
    "        long.append(float(params[2])) # rad\n",
    "        vLOS.append(float(params[3])) # km/s\n",
    "        rmag.append(float(params[4]))\n",
    "        imag.append(float(params[5]))\n",
    "        ext_r.append(float(params[7]))\n",
    "        ext_i.append(float(params[8]))\n",
    "        chunk.append(float(params[9]))\n",
    "\n",
    "lat = np.array(lat)\n",
    "long = np.array(long)\n",
    "vLOS = np.array(vLOS)\n",
    "rmag = np.array(rmag)-np.array(ext_r) # extinction corrected psf r magnitude\n",
    "imag = np.array(imag)-np.array(ext_i) # extinction corrected psf i magnitude\n",
    "chunk = np.array(chunk)"
   ]
  },
  {
   "cell_type": "code",
   "execution_count": null,
   "metadata": {
    "collapsed": true
   },
   "outputs": [],
   "source": [
    "xpos12 = list()\n",
    "ypos12 = list()\n",
    "zpos12 = list()\n",
    "dist12 = list()\n",
    "vLOS12 = list()\n",
    "sat12 = list()\n",
    "\n",
    "with open(\"halo12_final_track.dat\",'r') as infile:\n",
    "    for line in infile:\n",
    "        vals = line.split()\n",
    "        xpos12.append(float(vals[2]))\n",
    "        ypos12.append(float(vals[3]))\n",
    "        zpos12.append(float(vals[4]))\n",
    "        dist12.append(float(vals[5]))\n",
    "        vLOS12.append(float(vals[6]))\n",
    "        sat12.append(int(vals[7]))\n",
    "\n",
    "xpos12 = np.array(xpos12)\n",
    "ypos12 = np.array(ypos12)\n",
    "zpos12 = np.array(zpos12)\n",
    "dist12 = np.array(dist12)\n",
    "vLOS12 = np.array(vLOS12)\n",
    "sat12 = np.array(sat12)"
   ]
  },
  {
   "cell_type": "code",
   "execution_count": null,
   "metadata": {
    "collapsed": false
   },
   "outputs": [],
   "source": [
    "rsun = np.array([-8.0,0.0,0.0196])  # from astro-ph/0507655\n",
    "xsun12 = xpos12 - rsun[0]\n",
    "ysun12 = ypos12 - rsun[1]\n",
    "zsun12 = zpos12 - rsun[2]\n",
    "distsun12 = np.sqrt(xsun12**2+ysun12**2+zsun12**2)\n",
    "\n",
    "ra12, dec12, l12, b12 = np.zeros(len(xsun12)), np.zeros(len(xsun12)), np.zeros(len(xsun12)), np.zeros(len(xsun12))\n",
    "\n",
    "for i in range(len(xsun12)):\n",
    "    pos = np.array([xpos12[i],ypos12[i],zpos12[i]])\n",
    "    unitvec = pos / np.sqrt( np.dot(pos,pos) )\n",
    "    b = np.arcsin(unitvec[2]) # b in radians (-pi/2,pi/2)\n",
    "    bgal = b * 180.0/np.pi  # b in degrees\n",
    "    sinl = unitvec[1]/np.cos(b)\n",
    "    sign = sinl/abs(sinl)\n",
    "    if sign >= 0:\n",
    "        l = np.arccos(unitvec[0]/np.cos(b)) # l in radians (acos output is in range (0,pi))\n",
    "    else:\n",
    "        l = -np.arccos(unitvec[0]/np.cos(b)) + 2*np.pi # l in radians\n",
    "    lgal = l * 180.0/np.pi # l in degrees\n",
    "    gal = Galactic(l=lgal*u.degree, b=bgal*u.degree)\n",
    "    equ = gal.transform_to(ICRS)\n",
    "    ra = equ.ra.deg\n",
    "    dec = equ.dec.deg\n",
    "    \n",
    "    ra12[i] = ra\n",
    "    dec12[i] = dec\n",
    "    l12[i] = lgal\n",
    "    b12[i] = bgal"
   ]
  },
  {
   "cell_type": "markdown",
   "metadata": {},
   "source": [
    "Plot the locations of the stars:"
   ]
  },
  {
   "cell_type": "code",
   "execution_count": null,
   "metadata": {
    "collapsed": false
   },
   "outputs": [],
   "source": [
    "ra, dec = np.zeros(len(lat)), np.zeros(len(lat))\n",
    "\n",
    "for i in range(len(lat)):\n",
    "    gal = Galactic(l=long[i]*(180/np.pi)*u.degree, b=lat[i]*(180/np.pi)*u.degree)\n",
    "    equ = gal.transform_to(ICRS)\n",
    "    ra[i] = equ.ra.deg\n",
    "    dec[i] = equ.dec.deg"
   ]
  },
  {
   "cell_type": "code",
   "execution_count": null,
   "metadata": {
    "collapsed": false
   },
   "outputs": [],
   "source": [
    "fig=plt.figure()\n",
    "\n",
    "plt.subplot(321)\n",
    "plt.plot(long*180/np.pi,lat*180/np.pi,'b.',alpha=0.15,markersize=3)\n",
    "plt.tick_params(axis='x', labelsize=15)\n",
    "plt.tick_params(axis='y', labelsize=15)\n",
    "plt.xlabel(\"longitude (deg)\",size=17)\n",
    "plt.ylabel(\"latitude (deg)\",size=17)\n",
    "\n",
    "plt.subplot(322)\n",
    "plt.plot(ra,dec,'b.',alpha=0.15,markersize=3)\n",
    "plt.tick_params(axis='x', labelsize=15)\n",
    "plt.tick_params(axis='y', labelsize=15)\n",
    "plt.xlabel(\"ra (deg)\",size=17)\n",
    "plt.ylabel(\"dec (deg)\",size=17)\n",
    "fig.set_size_inches(20, 8)\n",
    "\n",
    "plt.subplot(323)\n",
    "plt.plot(l12,b12,'r.',alpha=0.15,markersize=3)\n",
    "plt.tick_params(axis='x', labelsize=15)\n",
    "plt.tick_params(axis='y', labelsize=15)\n",
    "plt.xlabel(\"longitude (deg)\",size=17)\n",
    "plt.ylabel(\"latitude (deg)\",size=17)\n",
    "\n",
    "plt.subplot(324)\n",
    "plt.plot(ra12,dec12,'r.',alpha=0.15,markersize=3)\n",
    "plt.tick_params(axis='x', labelsize=15)\n",
    "plt.tick_params(axis='y', labelsize=15)\n",
    "plt.xlabel(\"ra (deg)\",size=17)\n",
    "plt.ylabel(\"dec (deg)\",size=17)\n",
    "fig.set_size_inches(20, 8)\n",
    "\n",
    "plt.subplot(321)\n",
    "plt.plot(long*180/np.pi,lat*180/np.pi,'b.',alpha=0.15,markersize=3)\n",
    "plt.plot(l12,b12,'r.',alpha=0.15,markersize=3)\n",
    "plt.tick_params(axis='x', labelsize=15)\n",
    "plt.tick_params(axis='y', labelsize=15)\n",
    "plt.xlabel(\"longitude (deg)\",size=17)\n",
    "plt.ylabel(\"latitude (deg)\",size=17)\n",
    "\n",
    "plt.subplot(322)\n",
    "plt.plot(ra,dec,'b.',alpha=0.15,markersize=3)\n",
    "plt.plot(ra12,dec12,'r.',alpha=0.15,markersize=3)\n",
    "plt.tick_params(axis='x', labelsize=15)\n",
    "plt.tick_params(axis='y', labelsize=15)\n",
    "plt.xlabel(\"ra (deg)\",size=17)\n",
    "plt.ylabel(\"dec (deg)\",size=17)\n",
    "fig.set_size_inches(20, 8)"
   ]
  },
  {
   "cell_type": "markdown",
   "metadata": {},
   "source": [
    "Calculate velocities in the galactocentric rest frame coordinate system: x direction points from the sun to the galactic center, z direction points north, and use right handed coordinates"
   ]
  },
  {
   "cell_type": "code",
   "execution_count": 47,
   "metadata": {
    "collapsed": false
   },
   "outputs": [],
   "source": [
    "# from arXiv:0912.3693 (velocity of sun wrt LSR):\n",
    "u = 11.1 # positive x direction\n",
    "v = 12.24 # positive y direction\n",
    "w = 7.5 # positive z direction\n",
    "\n",
    "vsun = 220.0 # positive y direction\n",
    "\n",
    "vrf = ( vLOS + vsun*np.sin(long)*np.cos(lat) + u*np.cos(long)*np.cos(lat) + v*np.sin(long)*np.cos(lat) + w*np.sin(lat) )"
   ]
  },
  {
   "cell_type": "markdown",
   "metadata": {},
   "source": [
    "Calculate the absolute magnitude from the r and i band colors using the bright normalization from http://iopscience.iop.org/article/10.1086/523619/pdf eqn. 1"
   ]
  },
  {
   "cell_type": "code",
   "execution_count": 48,
   "metadata": {
    "collapsed": true
   },
   "outputs": [],
   "source": [
    "Mr = ( 4.0 + 11.86*(rmag - imag) - 10.74*(rmag - imag)**2.0 + 5.99*(rmag - imag)**3.0 - 1.20*(rmag - imag)**4.0 )"
   ]
  },
  {
   "cell_type": "markdown",
   "metadata": {},
   "source": [
    "It looks like come magnitudes are not correct.  We'll deal with this later.  For now, set Mr = 0 instead."
   ]
  },
  {
   "cell_type": "code",
   "execution_count": 49,
   "metadata": {
    "collapsed": false
   },
   "outputs": [],
   "source": [
    "for i in range(len(Mr)):\n",
    "    if Mr[i] < 0:\n",
    "        Mr[i] = np.nan"
   ]
  },
  {
   "cell_type": "markdown",
   "metadata": {},
   "source": [
    "Calculate the distance using eqn. 9 from http://iopscience.iop.org/article/10.1086/523619/pdf"
   ]
  },
  {
   "cell_type": "code",
   "execution_count": 50,
   "metadata": {
    "collapsed": true
   },
   "outputs": [],
   "source": [
    "dists = (10.0**( ((rmag-Mr)/5.0 )+ 1.0)) * 0.001 # distance in kpc"
   ]
  },
  {
   "cell_type": "code",
   "execution_count": 67,
   "metadata": {
    "collapsed": false
   },
   "outputs": [
    {
     "data": {
      "text/plain": [
       "<matplotlib.text.Text at 0x7f1458cb94a8>"
      ]
     },
     "execution_count": 67,
     "metadata": {},
     "output_type": "execute_result"
    },
    {
     "data": {
      "image/png": "[encoded data removed]",
      "text/plain": [
       "<matplotlib.figure.Figure at 0x7f1458b4ea58>"
      ]
     },
     "metadata": {},
     "output_type": "display_data"
    }
   ],
   "source": [
    "plt.plot(dists,vrf,'r.',alpha=0.15,markersize=3)\n",
    "plt.xlim(0,300)\n",
    "plt.ylim(-600,600)\n",
    "plt.tick_params(axis='x', labelsize=12)\n",
    "plt.tick_params(axis='y', labelsize=12)\n",
    "plt.xlabel(\"distance from sun (kpc)\",size=14)\n",
    "plt.ylabel(\"line of sight velocity (km/s)\",size=14)"
   ]
  },
  {
   "cell_type": "markdown",
   "metadata": {},
   "source": [
    "Calculate each star position"
   ]
  },
  {
   "cell_type": "code",
   "execution_count": 51,
   "metadata": {
    "collapsed": false
   },
   "outputs": [],
   "source": [
    "pos = np.zeros((len(dists),3))\n",
    "\n",
    "for i in range(len(dists)):\n",
    "    pos[i,0] = dists[i]*np.cos(lat[i])*np.cos(long[i])\n",
    "    pos[i,1] = dists[i]*np.cos(lat[i])*np.sin(long[i])\n",
    "    pos[i,2] = dists[i]*np.sin(lat[i])"
   ]
  },
  {
   "cell_type": "code",
   "execution_count": null,
   "metadata": {
    "collapsed": true
   },
   "outputs": [],
   "source": []
  },
  {
   "cell_type": "code",
   "execution_count": null,
   "metadata": {
    "collapsed": true
   },
   "outputs": [],
   "source": []
  },
  {
   "cell_type": "code",
   "execution_count": null,
   "metadata": {
    "collapsed": true
   },
   "outputs": [],
   "source": []
  }
 ],
 "metadata": {
  "kernelspec": {
   "display_name": "Python 3",
   "language": "python",
   "name": "python3"
  },
  "language_info": {
   "codemirror_mode": {
    "name": "ipython",
    "version": 3
   },
   "file_extension": ".py",
   "mimetype": "text/x-python",
   "name": "python",
   "nbconvert_exporter": "python",
   "pygments_lexer": "ipython3",
   "version": "3.5.2"
  }
 },
 "nbformat": 4,
 "nbformat_minor": 0
}
